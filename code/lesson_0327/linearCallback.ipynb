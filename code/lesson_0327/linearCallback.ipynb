{
 "cells": [
  {
   "cell_type": "code",
   "execution_count": 1,
   "metadata": {},
   "outputs": [],
   "source": [
    "%matplotlib inline\n",
    "import random\n",
    "import torch\n",
    "from d2l import torch as d2l"
   ]
  },
  {
   "cell_type": "code",
   "execution_count": 8,
   "metadata": {},
   "outputs": [],
   "source": [
    "# 生成数据集，y = Xw + b + 噪声\n",
    "def synthetic_data(b,w,number_examples):\n",
    "    #定义X\n",
    "    X = torch.normal(0,1,size=(number_examples,len(w))) \n",
    "    #定义y\n",
    "    y = torch.mv(X,w)+b\n",
    "    #引入噪声\n",
    "    y += torch.normal(0,0.01,size=y.shape)\n",
    "    return X,y.reshape((-1,1))\n",
    "\n",
    "true_w = torch.tensor([2,-3.4])\n",
    "true_b = 4.2\n",
    "features,labels = synthetic_data(true_b,true_w,1000)"
   ]
  },
  {
   "cell_type": "code",
   "execution_count": 12,
   "metadata": {},
   "outputs": [],
   "source": [
    "def data_iter(batch_size, features, labels):\n",
    "    num_examples = len(features)\n",
    "    indices = list(range(num_examples))\n",
    "    # 这些样本是随机读取的，没有特定的顺序\n",
    "    random.shuffle(indices)\n",
    "    for i in range(0, num_examples, batch_size): #从0开始，到num_examples结束，步长为batch_size\n",
    "        batch_indices = torch.tensor(\n",
    "            indices[i: min(i + batch_size, num_examples)])\n",
    "        yield features[batch_indices], labels[batch_indices]"
   ]
  },
  {
   "cell_type": "code",
   "execution_count": 20,
   "metadata": {},
   "outputs": [
    {
     "name": "stdout",
     "output_type": "stream",
     "text": [
      "tensor([[-1.1804, -0.7791],\n",
      "        [-1.2021,  0.7931],\n",
      "        [-0.1562,  0.7387],\n",
      "        [-1.4864, -0.8616],\n",
      "        [-1.0832, -0.6858],\n",
      "        [-0.1403,  0.5802],\n",
      "        [-2.3612, -0.5825],\n",
      "        [ 0.6724, -0.5949],\n",
      "        [ 1.5793, -0.4039],\n",
      "        [-0.6536, -0.8082]]) \n",
      " tensor([[ 4.4843],\n",
      "        [-0.9027],\n",
      "        [ 1.3743],\n",
      "        [ 4.1357],\n",
      "        [ 4.3758],\n",
      "        [ 1.9437],\n",
      "        [ 1.4545],\n",
      "        [ 7.5617],\n",
      "        [ 8.7213],\n",
      "        [ 5.6423]])\n"
     ]
    }
   ],
   "source": [
    "for X,y in data_iter(10,features,labels):\n",
    "    print(X,'\\n',y)\n",
    "    break"
   ]
  },
  {
   "cell_type": "code",
   "execution_count": 3,
   "metadata": {},
   "outputs": [],
   "source": [
    "# 初始化模型参数\n",
    "w = torch.normal(0,0.01,size=(2,1),requires_grad=True)\n",
    "b = torch.zeros(1,requires_grad=True)"
   ]
  },
  {
   "cell_type": "code",
   "execution_count": 16,
   "metadata": {},
   "outputs": [],
   "source": [
    "batch_size = 10\n",
    "# 定义模型\n",
    "def linreg(X,w,b):\n",
    "    return torch.mm(X,w)+b #使用了广播机制"
   ]
  },
  {
   "cell_type": "code",
   "execution_count": 5,
   "metadata": {},
   "outputs": [],
   "source": [
    "def squared_loss(y_hat,y):\n",
    "    return (y_hat - y.reshape(y_hat.shape))**2/2"
   ]
  },
  {
   "cell_type": "code",
   "execution_count": 6,
   "metadata": {},
   "outputs": [],
   "source": [
    "def sgd(params,lr,batch_size):\n",
    "    with torch.no_grad():\n",
    "        for param in params:\n",
    "            param -= lr* param.grad / batch_size\n",
    "            param.grad.zero_()"
   ]
  },
  {
   "cell_type": "code",
   "execution_count": 21,
   "metadata": {},
   "outputs": [],
   "source": [
    "lr = 0.03\n",
    "num_epochs = 3\n",
    "net = linreg #定义模型\n",
    "loss = squared_loss\n",
    "\n",
    "for epoch in range(num_epochs):\n",
    "    for X,y in data_iter(batch_size,features,labels):\n",
    "        l = loss(net(X,w,b),y)\n",
    "        l.sum().backward()\n",
    "        sgd([w,b],lr,batch_size)\n",
    "    with torch.no_grad(): #接下来的代码，停止梯度计算，因为测试集，不需要进行梯度计算\n",
    "        train_l = loss(net(features,w,b),labels)\n",
    "        print(f'epoch {epoch+1},loss {float(train_l.mean()):f}')"
   ]
  }
 ],
 "metadata": {
  "kernelspec": {
   "display_name": "pytorch-Test",
   "language": "python",
   "name": "python3"
  },
  "language_info": {
   "codemirror_mode": {
    "name": "ipython",
    "version": 3
   },
   "file_extension": ".py",
   "mimetype": "text/x-python",
   "name": "python",
   "nbconvert_exporter": "python",
   "pygments_lexer": "ipython3",
   "version": "3.11.5"
  },
  "orig_nbformat": 4
 },
 "nbformat": 4,
 "nbformat_minor": 2
}
